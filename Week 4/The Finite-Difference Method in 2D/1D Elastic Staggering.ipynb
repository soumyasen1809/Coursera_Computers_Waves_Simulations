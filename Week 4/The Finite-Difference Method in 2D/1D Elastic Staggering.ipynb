{
 "cells": [
  {
   "cell_type": "markdown",
   "metadata": {},
   "source": [
    "# Coursera - Finite Differences - Grid-Staggering Elastic 1D"
   ]
  },
  {
   "cell_type": "markdown",
   "metadata": {},
   "source": [
    "## Import libraries"
   ]
  },
  {
   "cell_type": "code",
   "execution_count": null,
   "metadata": {},
   "outputs": [],
   "source": [
    "import numpy as np\n",
    "import matplotlib\n",
    "import matplotlib.pyplot as plt"
   ]
  },
  {
   "cell_type": "markdown",
   "metadata": {},
   "source": [
    "## Defining parameters"
   ]
  },
  {
   "cell_type": "code",
   "execution_count": 6,
   "metadata": {},
   "outputs": [],
   "source": [
    "x_n_points = 1000           # Number of points in X\n",
    "t_n_points = 1300           # Number of time steps\n",
    "x_max = 1000000             # Length of the domain, m\n",
    "dx = x_max/x_n_points\n",
    "x = np.zeros(x_n_points)\n",
    "for i in range(0, x_n_points - 1):\n",
    "    x[i] = i*dx\n",
    "\n",
    "eps = 0.8                   # CFL Stability criteria\n",
    "c_0 = 4500                  # Shear velocity in the medium\n",
    "dt = eps * dx/float(c_0)\n",
    "t = np.zeros(t_n_points)\n",
    "for i in range(0, t_n_points - 1):\n",
    "    t[i] = i*dt\n",
    "\n",
    "source_x = x_n_points//2     # Source location\n",
    "f_0 = 0.1                   # Dominant frequency, Hz\n",
    "rho_0 = 2500                # density, kg/m3\n",
    "mu_0 = rho_0 * c_0**2       # Shear modulus, Pa\n",
    "T_0 = 1/float(f_0)          # Time period, 1/s\n",
    "a = 4/float(T_0)            # Half width\n",
    "lam = c_0 * T_0             # Wavelength\n",
    "t_0 = T_0/float(dt)\n",
    "\n",
    "temp = np.zeros(t_n_points)\n",
    "src = np.zeros(t_n_points)\n",
    "for it in range(0, t_n_points - 1):\n",
    "    t = (it - t_0)*dt\n",
    "    temp[it] = -2 * a * t * np.exp(-(a * t) ** 2)\n",
    "src[0:len(temp)] = temp\n",
    "f_snap = 2                  # snapshot frequency"
   ]
  },
  {
   "cell_type": "markdown",
   "metadata": {},
   "source": [
    "## Staggered Solution"
   ]
  },
  {
   "cell_type": "code",
   "execution_count": 7,
   "metadata": {},
   "outputs": [
    {
     "data": {
      "image/png": "[encoded data removed]",
      "text/plain": [
       "<Figure size 432x288 with 2 Axes>"
      ]
     },
     "metadata": {
      "needs_background": "light"
     },
     "output_type": "display_data"
    },
    {
     "data": {
      "text/plain": [
       "<Figure size 432x288 with 0 Axes>"
      ]
     },
     "metadata": {},
     "output_type": "display_data"
    }
   ],
   "source": [
    "v = np.zeros(x_n_points)    # Define velocity\n",
    "v_next = np.zeros(x_n_points)\n",
    "dv = np.zeros(x_n_points)\n",
    "\n",
    "sig = np.zeros(x_n_points)    # Define stress\n",
    "sig_next = np.zeros(x_n_points)\n",
    "dsig = np.zeros(x_n_points)\n",
    "\n",
    "mu = np.zeros(x_n_points)    # Define mu and rho\n",
    "rho = np.zeros(x_n_points)\n",
    "mu = mu + mu_0               # Assuming homogeneous conditions\n",
    "rho = rho + rho_0\n",
    "\n",
    "title = \"Elastic 1D staggered grid\"\n",
    "fig = plt.figure()\n",
    "ax1 = fig.add_subplot(2, 1, 1)\n",
    "ax2 = fig.add_subplot(2, 1, 2)\n",
    "line1 = ax1.plot(x, v, color = \"red\", lw = 1.5)\n",
    "line2 = ax2.plot(x, sig, color = \"blue\", lw = 1.5)\n",
    "ax1.set_ylabel('velocity (m/s)')\n",
    "ax2.set_xlabel('x (m)')\n",
    "ax2.set_ylabel('stress (Pa)')\n",
    "plt.ion()\n",
    "plt.show()\n",
    "\n",
    "for it in range(0, t_n_points - 1):\n",
    "    for i in range(2, x_n_points - 2):\n",
    "        dsig[i] = (0.0416666 * sig[i - 1] - 1.125 * sig[i] + 1.125 * sig[i + 1] - 0.0416666 * sig[i + 2]) / float(dx)\n",
    "\n",
    "    v = v + dt*dsig/rho        # Updating velocity\n",
    "    v[source_x] = v[source_x] + dt*src[it]/float(dt*rho[source_x])      # Adding the source term\n",
    "\n",
    "    for i in range(2, x_n_points - 2):\n",
    "        dv[i] = (0.0416666 * v[i - 2] - 1.125 * v[i - 1] + 1.125 * v[i] - 0.0416666 * v[i + 1]) / float(dx)\n",
    "\n",
    "    sig = sig + dt*dv*mu       # Updating stress\n",
    "\n",
    "    # Updating the plots\n",
    "    if not it % f_snap:\n",
    "        for l in line1:\n",
    "            l.remove()\n",
    "            del l\n",
    "        for l in line2:\n",
    "            l.remove()\n",
    "            del l\n",
    "        line1 = ax1.plot(x, v, color=\"red\", lw=1.5)\n",
    "        line2 = ax2.plot(x, sig, color=\"blue\", lw=1.5)\n",
    "\n",
    "        ax1.set_title(title + \", time step: %i\" % (it))\n",
    "        plt.gcf().canvas.draw()\n",
    "\n",
    "plt.ioff()\n",
    "plt.show()"
   ]
  },
  {
   "cell_type": "code",
   "execution_count": null,
   "metadata": {},
   "outputs": [],
   "source": []
  }
 ],
 "metadata": {
  "kernelspec": {
   "display_name": "Python 3",
   "language": "python",
   "name": "python3"
  },
  "language_info": {
   "codemirror_mode": {
    "name": "ipython",
    "version": 3
   },
   "file_extension": ".py",
   "mimetype": "text/x-python",
   "name": "python",
   "nbconvert_exporter": "python",
   "pygments_lexer": "ipython3",
   "version": "3.7.3"
  }
 },
 "nbformat": 4,
 "nbformat_minor": 4
}
