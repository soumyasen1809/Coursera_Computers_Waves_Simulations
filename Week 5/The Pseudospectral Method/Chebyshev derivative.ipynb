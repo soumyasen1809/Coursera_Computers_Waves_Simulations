{
 "cells": [
  {
   "cell_type": "markdown",
   "metadata": {},
   "source": [
    "# Coursera - Chebyshev derivative"
   ]
  },
  {
   "cell_type": "markdown",
   "metadata": {},
   "source": [
    "## Import libraries"
   ]
  },
  {
   "cell_type": "code",
   "execution_count": 6,
   "metadata": {},
   "outputs": [],
   "source": [
    "import numpy as np\n",
    "import matplotlib\n",
    "import matplotlib.pyplot as plt"
   ]
  },
  {
   "cell_type": "markdown",
   "metadata": {},
   "source": [
    "## Define parameters"
   ]
  },
  {
   "cell_type": "code",
   "execution_count": 7,
   "metadata": {},
   "outputs": [],
   "source": [
    "x_n_points = 200                                                       # number of grid points in X\n",
    "x = np.zeros(x_n_points + 1)\n",
    "for i in range(0, x_n_points + 1):\n",
    "    x[i] = np.cos(np.pi * i/float(x_n_points))\n"
   ]
  },
  {
   "cell_type": "markdown",
   "metadata": {},
   "source": [
    "## Example function - Gaussian"
   ]
  },
  {
   "cell_type": "code",
   "execution_count": 8,
   "metadata": {},
   "outputs": [
    {
     "name": "stdout",
     "output_type": "stream",
     "text": [
      "Error is:  1.9162368125088013e-24\n"
     ]
    },
    {
     "name": "stderr",
     "output_type": "stream",
     "text": [
      "/srv/conda/envs/notebook/lib/python3.7/site-packages/ipykernel_launcher.py:15: RuntimeWarning: divide by zero encountered in double_scalars\n",
      "  from ipykernel import kernelapp as app\n"
     ]
    }
   ],
   "source": [
    "f = np.exp(-1/0.2**2 * x**2)                                          # Defining a Gaussian function\n",
    "an_df = -2/float(0.2)**2 * x * np.exp(-1/float(0.2)**2 * x**2)        # Analytical derivative of a Gaussian function\n",
    "\n",
    "cheby_x = np.zeros(x_n_points + 1)\n",
    "cheby_x[0] = 2\n",
    "cheby_x[x_n_points] = 2\n",
    "cheby_x[1:x_n_points] = 1\n",
    "\n",
    "cheby_matrix_D = np.zeros((x_n_points + 1, x_n_points + 1))            # Differentiation matrix\n",
    "for i in range(0, x_n_points + 1):\n",
    "    for j in range(0, x_n_points + 1):\n",
    "        if i == j and i != 0 and i != x_n_points:\n",
    "            cheby_matrix_D[i, i] = -x[i] / float((2 * (1 - x[i] * x[i])))\n",
    "        else:\n",
    "            cheby_matrix_D[i, j] = (cheby_x[i] * (-1) ** (i + j)) / (float(cheby_x[j]) * (x[i] - x[j]))\n",
    "\n",
    "cheby_matrix_D[0, 0] = (2. * x_n_points ** 2 + 1) / float(6)\n",
    "cheby_matrix_D[x_n_points, x_n_points] = -1 * cheby_matrix_D[0, 0]\n",
    "\n",
    "num_df = np.dot(cheby_matrix_D, f)                                      # Use numpy.dot() for matrix vector product\n",
    "\n",
    "error = np.sum((num_df - an_df)**2) / np.sum(an_df**2) * 100            # Calculate error between the solutions\n",
    "print (\"Error is: \", error)"
   ]
  },
  {
   "cell_type": "markdown",
   "metadata": {},
   "source": [
    "## Plot the functions"
   ]
  },
  {
   "cell_type": "code",
   "execution_count": 9,
   "metadata": {},
   "outputs": [
    {
     "data": {
      "image/png": "[encoded data removed]",
      "text/plain": [
       "<Figure size 432x288 with 2 Axes>"
      ]
     },
     "metadata": {
      "needs_background": "light"
     },
     "output_type": "display_data"
    }
   ],
   "source": [
    "plt.subplot(2,1,1)\n",
    "plt.plot(x, f, \"g\", lw = 1.5, label='Gaussian')\n",
    "plt.legend(loc='upper right', shadow=True)\n",
    "plt.xlabel('$x$')\n",
    "plt.ylabel('$f(x)$')\n",
    "\n",
    "plt.subplot(2,1,2)\n",
    "plt.plot(x, an_df, \"b\", lw = 1.5, label='Analytical')\n",
    "plt.plot(x, num_df, 'k--', lw = 1.5, label='Numerical')\n",
    "plt.plot(x, (num_df - an_df)*(1e12), \"r\", lw = 1.5, label='Difference')     # error is magnified by a factor of e**12\n",
    "plt.legend(loc='upper right', shadow=True)\n",
    "plt.xlabel('$x$')\n",
    "plt.ylabel('$\\partial_x f(x)$')\n",
    "\n",
    "plt.show()"
   ]
  },
  {
   "cell_type": "code",
   "execution_count": null,
   "metadata": {},
   "outputs": [],
   "source": []
  }
 ],
 "metadata": {
  "kernelspec": {
   "display_name": "Python 3",
   "language": "python",
   "name": "python3"
  },
  "language_info": {
   "codemirror_mode": {
    "name": "ipython",
    "version": 3
   },
   "file_extension": ".py",
   "mimetype": "text/x-python",
   "name": "python",
   "nbconvert_exporter": "python",
   "pygments_lexer": "ipython3",
   "version": "3.7.3"
  }
 },
 "nbformat": 4,
 "nbformat_minor": 4
}
