{
 "cells": [
  {
   "cell_type": "markdown",
   "metadata": {},
   "source": [
    "# Coursera - The Pseudo-Spectral Method - Acoustic Waves in 1D"
   ]
  },
  {
   "cell_type": "markdown",
   "metadata": {},
   "source": [
    "## Import libraries"
   ]
  },
  {
   "cell_type": "code",
   "execution_count": 23,
   "metadata": {},
   "outputs": [
    {
     "name": "stdout",
     "output_type": "stream",
     "text": [
      "Requirement already satisfied: ricker in /srv/conda/envs/notebook/lib/python3.7/site-packages (0.1.2)\n",
      "Requirement already satisfied: numpy>=1.8.2 in /srv/conda/envs/notebook/lib/python3.7/site-packages (from ricker) (1.16.4)\n"
     ]
    }
   ],
   "source": [
    "import sys\n",
    "!{sys.executable} -m pip install ricker\n",
    "import numpy as np\n",
    "import matplotlib\n",
    "import matplotlib.pyplot as plt\n",
    "from ricker import ricker"
   ]
  },
  {
   "cell_type": "markdown",
   "metadata": {},
   "source": [
    "## Define parameters"
   ]
  },
  {
   "cell_type": "code",
   "execution_count": 24,
   "metadata": {},
   "outputs": [],
   "source": [
    "x_n_points = 2024               # Number of grid points in X\n",
    "t_n_points = 3500               # Number of time steps\n",
    "c = 343                         # Wave velocity in medium, m/s\n",
    "dx = 1250/float(x_n_points - 1)\n",
    "eps = 0.2                       # CFL stability criteria\n",
    "dt = eps*dx/float(c)\n",
    "source_x = 1250                 # Source location in X, m\n",
    "f_0 = 60                        # Dominant frequency, Hz\n",
    "x = np.zeros(x_n_points)        # Define co-ordinate in X\n",
    "for i in range(0, x_n_points - 1):\n",
    "    x[i] = i * dx\n",
    "f_snap = 50                     # Snapshot frequency\n",
    "\n",
    "p = np.zeros(x_n_points)        # Pressure at time n\n",
    "p_next = np.zeros(x_n_points)   # Pressure at time n+1\n",
    "p_prev = np.zeros(x_n_points)   # Pressure at time n-1\n",
    "d2p_x = np.zeros(x_n_points)    # 2nd derivative of pressure in X\n",
    "\n",
    "sigma = 2*dx                    # Spatial source function\n",
    "x_0 = x[source_x - 1]\n",
    "sg = np.exp(-1/float(sigma)**2 *(x - x_0)**2)\n",
    "sg = sg/float(np.amax(sg))\n",
    "\n",
    "t = np.arange(1, t_n_points + 1)*dt  # initialize time axis\n",
    "T_0 = 1/(f_0)              # Time period\n",
    "temp = ricker(dt, T_0)\n",
    "temp = np.diff(temp)\n",
    "source_f = np.zeros(t_n_points)\n",
    "source_f[0:np.size(temp)] = temp\n",
    "lam = c*T_0"
   ]
  },
  {
   "cell_type": "markdown",
   "metadata": {},
   "source": [
    "## Plot the fourier wave"
   ]
  },
  {
   "cell_type": "code",
   "execution_count": 25,
   "metadata": {},
   "outputs": [
    {
     "data": {
      "image/png": "[encoded data removed]",
      "text/plain": [
       "<Figure size 432x288 with 1 Axes>"
      ]
     },
     "metadata": {
      "needs_background": "light"
     },
     "output_type": "display_data"
    }
   ],
   "source": [
    "plt.ion()\n",
    "\n",
    "fig, (ax1) = plt.subplots(1)\n",
    "line1 = ax1.plot(x[source_x:], p[source_x:], 'r', lw=1.5, label='Fourier')\n",
    "ax1.axis([source_x*dx, x_n_points*dx, -6E-7, 6E-7])\n",
    "ax1.set_xlabel('x [m]')\n",
    "ax1.legend(loc=4)\n",
    "\n",
    "plt.show()"
   ]
  },
  {
   "cell_type": "markdown",
   "metadata": {},
   "source": [
    "## Fourier transform method"
   ]
  },
  {
   "cell_type": "code",
   "execution_count": 26,
   "metadata": {},
   "outputs": [
    {
     "data": {
      "text/plain": [
       "<Figure size 432x288 with 0 Axes>"
      ]
     },
     "metadata": {},
     "output_type": "display_data"
    }
   ],
   "source": [
    "for it in range(t_n_points):\n",
    "\n",
    "    nx = np.size(p)\n",
    "    kmax = np.pi / float(dx)                                # K defined by Nyquist wave number\n",
    "    dk = kmax /(nx / float(2))\n",
    "    k = np.arange(float(nx))\n",
    "    k[: int(nx/2)] = k[: int(nx/2)] * dk\n",
    "    k[int(nx/2):] = k[: int(nx/2)] - kmax\n",
    "\n",
    "    # Fourier derivative\n",
    "    ff = np.fft.fft(p)\n",
    "    ff = (1j * k) ** 2 * ff\n",
    "    d2p_x = np.real(np.fft.ifft(ff))                        # 2nd space derivative\n",
    "\n",
    "    p_next = 2 * p - p_prev + c ** 2 * dt ** 2 * d2p_x      # pressure at time n+1\n",
    "    p_next = p_next + sg * source_f[it] * dt ** 2           # Add source\n",
    "    p_prev, p = p, p_next                                   # Assigning the pressure to the next value\n",
    "    p[1] = 0                                                # Set boundary conditions\n",
    "    p[x_n_points - 1] = 0\n",
    "\n",
    "\n",
    "    if not it % f_snap:\n",
    "        for l in line1:\n",
    "            l.remove()\n",
    "            del l\n",
    "\n",
    "        line1 = ax1.plot(x[source_x:], p[source_x:], 'r', lw=1.5)\n",
    "        plt.gcf().canvas.draw()\n",
    "plt.show()"
   ]
  },
  {
   "cell_type": "code",
   "execution_count": null,
   "metadata": {},
   "outputs": [],
   "source": []
  }
 ],
 "metadata": {
  "kernelspec": {
   "display_name": "Python 3",
   "language": "python",
   "name": "python3"
  },
  "language_info": {
   "codemirror_mode": {
    "name": "ipython",
    "version": 3
   },
   "file_extension": ".py",
   "mimetype": "text/x-python",
   "name": "python",
   "nbconvert_exporter": "python",
   "pygments_lexer": "ipython3",
   "version": "3.7.3"
  }
 },
 "nbformat": 4,
 "nbformat_minor": 4
}
