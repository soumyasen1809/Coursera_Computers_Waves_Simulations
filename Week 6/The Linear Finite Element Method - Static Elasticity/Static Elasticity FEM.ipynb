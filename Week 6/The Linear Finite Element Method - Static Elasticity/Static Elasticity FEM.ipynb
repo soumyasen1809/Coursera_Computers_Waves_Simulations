{
 "cells": [
  {
   "cell_type": "markdown",
   "metadata": {},
   "source": [
    "# Coursera - Static Elasticity FEM"
   ]
  },
  {
   "cell_type": "markdown",
   "metadata": {},
   "source": [
    "## Importing libraries"
   ]
  },
  {
   "cell_type": "code",
   "execution_count": 1,
   "metadata": {},
   "outputs": [],
   "source": [
    "import numpy as np\n",
    "import matplotlib\n",
    "import matplotlib.pyplot as plt"
   ]
  },
  {
   "cell_type": "markdown",
   "metadata": {},
   "source": [
    "## Defining the parameters"
   ]
  },
  {
   "cell_type": "code",
   "execution_count": 3,
   "metadata": {},
   "outputs": [],
   "source": [
    "x_n_points = 20                         # Number of points in X\n",
    "x = np.linspace(0, 1, x_n_points)       # Define X co-ordinate\n",
    "ele_len = x[2] - x[1]                   # Length of an element, assumed constant\n",
    "\n",
    "f = np.zeros(x_n_points)                # Force vector\n",
    "f[int(3*x_n_points/4)] = 1                   # Assuming a force applied at 3/4th length of the domain\n",
    "f[1] = 3                                # Force boundary condition\n",
    "f[x_n_points - 2] = 1\n",
    "\n",
    "u = np.zeros(x_n_points)                # Displacement vector\n",
    "u[0] = 0.15                             # Boundary condition at x = 0\n",
    "u[x_n_points - 1] = 0.05                # Boundary condition at x = L\n",
    "\n",
    "mu = 1                                  # Shear modulus assumed constant\n",
    "\n",
    "K = np.zeros((x_n_points, x_n_points))  # Defining a stiffness matrix\n",
    "for i in range(1, x_n_points - 1):      # Stiffness matrix values directly used from lecture\n",
    "    for j in range(1, x_n_points - 1):\n",
    "        if i == j:\n",
    "            K[i, j] = 2* mu/float(ele_len)\n",
    "        elif i == j + 1:\n",
    "            K[i, j] = -1 * mu/float(ele_len)\n",
    "        elif i + 1 == j:\n",
    "            K[i, j] = -1 * mu/float(ele_len)\n",
    "        else:\n",
    "            K[i, j] = 0\n"
   ]
  },
  {
   "cell_type": "markdown",
   "metadata": {},
   "source": [
    "## Solving the matrix vector multiplication"
   ]
  },
  {
   "cell_type": "code",
   "execution_count": null,
   "metadata": {},
   "outputs": [],
   "source": [
    "u[1:x_n_points - 1] = np.dot(np.linalg.inv(K[1: x_n_points - 1, 1: x_n_points - 1]), np.transpose(f[1: x_n_points - 1]))\n"
   ]
  }
 ],
 "metadata": {
  "kernelspec": {
   "display_name": "Python 3",
   "language": "python",
   "name": "python3"
  },
  "language_info": {
   "codemirror_mode": {
    "name": "ipython",
    "version": 3
   },
   "file_extension": ".py",
   "mimetype": "text/x-python",
   "name": "python",
   "nbconvert_exporter": "python",
   "pygments_lexer": "ipython3",
   "version": "3.7.3"
  }
 },
 "nbformat": 4,
 "nbformat_minor": 4
}
