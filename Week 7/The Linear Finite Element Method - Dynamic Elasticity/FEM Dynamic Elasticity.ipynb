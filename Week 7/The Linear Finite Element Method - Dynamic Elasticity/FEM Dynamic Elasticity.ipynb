{
 "cells": [
  {
   "cell_type": "markdown",
   "metadata": {},
   "source": [
    "# Coursera - The Finite Element Method - Dynamic Elasticity"
   ]
  },
  {
   "cell_type": "markdown",
   "metadata": {},
   "source": [
    "## Importing libraries"
   ]
  },
  {
   "cell_type": "code",
   "execution_count": 1,
   "metadata": {},
   "outputs": [],
   "source": [
    "import numpy as np\n",
    "import matplotlib\n",
    "import matplotlib.pyplot as plt"
   ]
  },
  {
   "cell_type": "markdown",
   "metadata": {},
   "source": [
    "## Defining parameters"
   ]
  },
  {
   "cell_type": "code",
   "execution_count": 2,
   "metadata": {},
   "outputs": [],
   "source": [
    "x_n_points = 1000                           # Number of points in X\n",
    "x_max = 10000                               # Length of the domain, m\n",
    "dx = x_max/float((x_n_points - 1))\n",
    "x = np.zeros(x_n_points)                    # Define co-ordinate along X\n",
    "for i in range(0, x_n_points - 1):\n",
    "    x[i] = i * dx\n",
    "x = np.transpose(x)\n",
    "ele_len = np.diff(x)                        # Length of an element\n",
    "\n",
    "c_0 = 3000                                  # Velocity of wave in medium, m/s\n",
    "rho_0 = 2500                                # Density, kg/m3\n",
    "rho = x*0 + rho_0\n",
    "mu = x*0 + rho*c_0**2\n",
    "\n",
    "source_x = 500                              # Location of source, m\n",
    "\n",
    "t_n_points = 2000                           # Number of time steps\n",
    "eps = 0.5                                   # CFL stability criteria\n",
    "dt = 0.5*eps*dx/float(np.max(np.sqrt(mu/rho)))\n",
    "t = np.arange(1, t_n_points+1)*dt\n",
    "\n",
    "f_snap = 20                                 # Snapshot frequency\n",
    "\n",
    "u = np.zeros(x_n_points)                    # Solution at time n\n",
    "u_next = np.zeros(x_n_points)               # Solution at time n+1\n",
    "u_old = np.zeros(x_n_points)                # Solution at time n-1"
   ]
  },
  {
   "cell_type": "markdown",
   "metadata": {},
   "source": [
    "## Defining the mass matrix"
   ]
  },
  {
   "cell_type": "code",
   "execution_count": 3,
   "metadata": {},
   "outputs": [],
   "source": [
    "M = np.zeros((x_n_points, x_n_points))\n",
    "for i in range(1, x_n_points - 1):\n",
    "    for j in range(1, x_n_points - 1):\n",
    "        if j == i:\n",
    "            M[i, j] = (rho[i - 1] * ele_len[i - 1] + rho[i] * ele_len[i]) / float(3)\n",
    "        elif j == i + 1:\n",
    "            M[i, j] = rho[i] * ele_len[i] / float(6)\n",
    "        elif j == i - 1:\n",
    "            M[i, j] = rho[i - 1] * ele_len[i - 1] / float(6)\n",
    "        else:\n",
    "            M[i, j] = 0\n",
    "\n",
    "M[0, 0] = rho[0] * ele_len[0] / float(3)     # Defining the boundary conditions\n",
    "M[x_n_points - 1,x_n_points - 1] = rho[x_n_points - 1] * ele_len[x_n_points - 2] / float(3)\n",
    "M_inv = np.linalg.inv(M)                    # Taking inverse of a matrix using np.linalg.inv()\n"
   ]
  },
  {
   "cell_type": "markdown",
   "metadata": {},
   "source": [
    "## Defining the stiffness matrix"
   ]
  },
  {
   "cell_type": "code",
   "execution_count": 4,
   "metadata": {},
   "outputs": [],
   "source": [
    "K = np.zeros((x_n_points, x_n_points))\n",
    "for i in range(1, x_n_points - 1):\n",
    "    for j in range(1, x_n_points - 1):\n",
    "        if i == j:\n",
    "            K[i, j] = mu[i-1]/float(ele_len[i-1]) + mu[i]/float(ele_len[i])\n",
    "        elif i == j + 1:\n",
    "            K[i, j] = -1 * mu[i-1]/float(ele_len[i-1])\n",
    "        elif i+1 == j:\n",
    "            K[i, j] = -1 * mu[i]/float(ele_len[i])\n",
    "        else:\n",
    "            K[i, j] = 0\n",
    "\n",
    "K[0, 0] = mu[0]/float(ele_len[0])           # Defining the boundary conditions\n",
    "K[x_n_points - 1, x_n_points - 1] = mu[x_n_points - 1]/float(ele_len[x_n_points - 2])"
   ]
  },
  {
   "cell_type": "markdown",
   "metadata": {},
   "source": [
    "## Plotting the Mass and Stiffness matrix as color grid"
   ]
  },
  {
   "cell_type": "code",
   "execution_count": 5,
   "metadata": {},
   "outputs": [
    {
     "data": {
      "image/png": "[encoded data removed]",
      "text/plain": [
       "<Figure size 432x288 with 2 Axes>"
      ]
     },
     "metadata": {
      "needs_background": "light"
     },
     "output_type": "display_data"
    }
   ],
   "source": [
    "fig, (ax1, ax2) = plt.subplots(1, 2)\n",
    "ax1.imshow(K[1:10,1:10])\n",
    "ax1.set_title('Stiffness Matrix $\\mathbf{K}$')\n",
    "ax1.axis(\"off\")\n",
    "\n",
    "ax2.imshow(M_inv[1:10,1:10])\n",
    "ax2.set_title('Mass Matrix $\\mathbf{M^{-1}}$')\n",
    "ax2.axis(\"off\")\n",
    "\n",
    "plt.tight_layout()\n",
    "plt.show()"
   ]
  },
  {
   "cell_type": "markdown",
   "metadata": {},
   "source": [
    "## Plotting the source time function"
   ]
  },
  {
   "cell_type": "code",
   "execution_count": 8,
   "metadata": {},
   "outputs": [
    {
     "data": {
      "image/png": "[encoded data removed]",
      "text/plain": [
       "<Figure size 432x288 with 1 Axes>"
      ]
     },
     "metadata": {
      "needs_background": "light"
     },
     "output_type": "display_data"
    }
   ],
   "source": [
    "pt = 20*dt     # Gaussian width\n",
    "t0 = 3*pt      # Time shift\n",
    "src = -2/float(pt**2) * (t-t0) * np.exp(-1/float(pt**2) * (t-t0)**2)\n",
    "plt.plot(t, src, color='b', lw=2, label='Source time function')\n",
    "plt.ylabel('Amplitude')\n",
    "plt.xlabel('time')\n",
    "plt.legend()\n",
    "plt.grid(True)\n",
    "plt.show()\n",
    "\n",
    "f = np.zeros(x_n_points)                    # Defining the source function\n",
    "f[source_x:source_x+1] = f[source_x:source_x+1] + 1"
   ]
  },
  {
   "cell_type": "markdown",
   "metadata": {},
   "source": [
    "# Solving the FEM equation"
   ]
  },
  {
   "cell_type": "code",
   "execution_count": 7,
   "metadata": {},
   "outputs": [
    {
     "data": {
      "image/png": "[encoded data removed]",
      "text/plain": [
       "<Figure size 720x360 with 1 Axes>"
      ]
     },
     "metadata": {
      "needs_background": "light"
     },
     "output_type": "display_data"
    }
   ],
   "source": [
    "plt.figure(figsize=(10,5))\n",
    "line1 = plt.plot(x, u, 'r', lw=1.5, label='FEM')\n",
    "plt.title('Finite elements 1D Animation', fontsize=16)\n",
    "plt.ylabel('Amplitude')\n",
    "plt.xlabel('x (m)')\n",
    "\n",
    "plt.ion()\n",
    "plt.show()"
   ]
  },
  {
   "cell_type": "code",
   "execution_count": null,
   "metadata": {},
   "outputs": [],
   "source": [
    "for it in range(t_n_points):\n",
    "    u_next = np.dot((dt**2) * M_inv, (f*src[it] - np.dot(K, u))) + 2*u - u_old\n",
    "    u_old, u = u, u_next                    # Assigning the solution to the next time step\n",
    "\n",
    "    if not it % f_snap:\n",
    "        for l in line1:\n",
    "            l.remove()\n",
    "            del l\n",
    "        line1 = plt.plot(x, u, 'r', lw=1.5, label='FEM')\n",
    "        plt.legend()\n",
    "        plt.gcf().canvas.draw()\n",
    "\n",
    "plt.show()"
   ]
  },
  {
   "cell_type": "code",
   "execution_count": null,
   "metadata": {},
   "outputs": [],
   "source": []
  }
 ],
 "metadata": {
  "kernelspec": {
   "display_name": "Python 3",
   "language": "python",
   "name": "python3"
  },
  "language_info": {
   "codemirror_mode": {
    "name": "ipython",
    "version": 3
   },
   "file_extension": ".py",
   "mimetype": "text/x-python",
   "name": "python",
   "nbconvert_exporter": "python",
   "pygments_lexer": "ipython3",
   "version": "3.7.3"
  }
 },
 "nbformat": 4,
 "nbformat_minor": 4
}
