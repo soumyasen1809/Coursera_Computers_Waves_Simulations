{
 "cells": [
  {
   "cell_type": "markdown",
   "metadata": {},
   "source": [
    "# Coursera - Elastic Wave Equation 1D - Homogeneous Case"
   ]
  },
  {
   "cell_type": "markdown",
   "metadata": {},
   "source": [
    "## Import libraries"
   ]
  },
  {
   "cell_type": "code",
   "execution_count": 9,
   "metadata": {},
   "outputs": [
    {
     "name": "stdout",
     "output_type": "stream",
     "text": [
      "Requirement already satisfied: ricker in /srv/conda/envs/notebook/lib/python3.7/site-packages (0.1.2)\n",
      "Requirement already satisfied: numpy>=1.8.2 in /srv/conda/envs/notebook/lib/python3.7/site-packages (from ricker) (1.16.4)\n"
     ]
    }
   ],
   "source": [
    "import sys\n",
    "!{sys.executable} -m pip install ricker"
   ]
  },
  {
   "cell_type": "code",
   "execution_count": 10,
   "metadata": {},
   "outputs": [],
   "source": [
    "import numpy as np\n",
    "import matplotlib\n",
    "import matplotlib.pyplot as plt\n",
    "from ricker import ricker"
   ]
  },
  {
   "cell_type": "markdown",
   "metadata": {},
   "source": [
    "## Define parameters"
   ]
  },
  {
   "cell_type": "code",
   "execution_count": 11,
   "metadata": {},
   "outputs": [],
   "source": [
    "x_max = 10000                           # Length of the domain, m\n",
    "n_ele = 125                             # Number of elements considered\n",
    "len_ele = x_max/float(n_ele)            # Length of an element\n",
    "\n",
    "c = 2500                                # Wave velocity in medium, m/s\n",
    "rho = 2000                              # Constant density, kg/m3\n",
    "mu = rho * c**2                         # Constant shear modulus\n",
    "\n",
    "T_0 = 0.1                               # Ricker source dominant period\n",
    "f_snap = 5                              # Snapshot frequency\n",
    "\n",
    "N = 5                                   # Lagrange Polynomial order\n",
    "xi = [-1.0, -0.7650553239294647, -0.285231516480645, 0.285231516480645, 0.7650553239294647, 1.0] # Weights for lagrange polynomial\n",
    "w = [0.0666666666666667, 0.378474956297847, 0.5548583770354862, 0.5548583770354862, 0.378474956297847, 0.0666666666666667] # Weights for numerical integration\n",
    "\n",
    "# Taking 1st derivative for Lagrange polynomial of order 5\n",
    "l1d = np.array([[-7.5, -1.78636495, 0.48495105, -0.26970061, 0.23778118, -0.5],\n",
    "       [10.14141594, 0.0, -1.72125695, 0.78635667, -0.65354751, 1.34991331],\n",
    "       [-4.03618727, 2.52342678, 0.0, -1.75296197, 1.15282816, -2.24468465],\n",
    "       [2.24468465, -1.15282816, 1.75296197, 0.0, -2.52342678, 4.03618727],\n",
    "       [-1.34991331, 0.65354751, -0.78635667, 1.72125695, 0.0, -10.14141594],\n",
    "       [0.5, -0.23778118, 0.26970061, -0.48495105, 1.78636495, 7.5]])\n",
    "# Note: Use np.array() to correct error - tuple\n",
    "\n",
    "M_ele = np.zeros(N+1)                   # Elemental mass matrix\n",
    "K_ele = np.zeros((N+1, N+1))            # Elemental stiffness matrix\n",
    "\n",
    "J = len_ele/float(2)                    # Jacobain matrix\n",
    "J_inv = 1/float(J)                      # Inverse of Jacobian\n",
    "\n",
    "t_n_points = 600                        # Number of time steps\n",
    "k = 0\n",
    "xg = np.zeros((N*n_ele)+1)\n",
    "xg[k] = 0\n",
    "for i in range(1, n_ele+1):\n",
    "    for j in range(0, N):\n",
    "        k = k+1\n",
    "        xg[k] = (i-1)*len_ele + 0.5*(xi[j+1]+1)*len_ele\n",
    "\n",
    "dxmin = min(np.diff(xg))\n",
    "eps = 0.2                               # CFL stability criteria\n",
    "dt = eps*dxmin/c\n"
   ]
  },
  {
   "cell_type": "markdown",
   "metadata": {},
   "source": [
    "## Mass matrix - M"
   ]
  },
  {
   "cell_type": "code",
   "execution_count": 12,
   "metadata": {},
   "outputs": [
    {
     "data": {
      "image/png": "[encoded data removed]",
      "text/plain": [
       "<Figure size 432x288 with 1 Axes>"
      ]
     },
     "metadata": {
      "needs_background": "light"
     },
     "output_type": "display_data"
    }
   ],
   "source": [
    "for i in range(0, N+1):\n",
    "    M_ele[i] = rho * w[i] * J           # Elemental mass matrix\n",
    "\n",
    "n_ele_gl = (n_ele-1)*N + N + 1          # Number of elements for a global assembly matrix\n",
    "M_gl = np.zeros(2*n_ele_gl)\n",
    "\n",
    "k = -1\n",
    "for i in range(1, n_ele+1):\n",
    "    for j in range(0, N+1):\n",
    "        k = k + 1\n",
    "        if i>1:\n",
    "            if j == 0:\n",
    "                k = k - 1\n",
    "        M_gl[k] = M_gl[k] + M_ele[j]     # Global mass matrix\n",
    "\n",
    "M_gl_inv = np.identity(n_ele_gl)\n",
    "for i in range(0, n_ele_gl):\n",
    "    M_gl_inv[i,i] = 1/float(M_gl[i])     # Inverse of global mass matrix\n",
    "\n",
    "plt.imshow(M_gl_inv)\n",
    "plt.title('Global Mass Matrix $\\mathbf{M}$')\n",
    "plt.axis(\"off\")\n",
    "plt.tight_layout()\n",
    "plt.show()\n"
   ]
  },
  {
   "cell_type": "markdown",
   "metadata": {},
   "source": [
    "## Stiffness matrix - K"
   ]
  },
  {
   "cell_type": "code",
   "execution_count": 13,
   "metadata": {},
   "outputs": [
    {
     "data": {
      "image/png": "[encoded data removed]",
      "text/plain": [
       "<Figure size 432x288 with 1 Axes>"
      ]
     },
     "metadata": {
      "needs_background": "light"
     },
     "output_type": "display_data"
    }
   ],
   "source": [
    "for i in range(0, N+1):\n",
    "    for j in range(0, N+1):\n",
    "        for k in range(0, N+1):\n",
    "            K_ele[i,j] = K_ele[i,j] + mu*w[k]*J_inv*l1d[i,k]*l1d[j,k]  # Elemental stiffness matrix\n",
    "\n",
    "K_gl = np.zeros([n_ele_gl, n_ele_gl])\n",
    "\n",
    "for i in range(1, n_ele+1):\n",
    "    i_0 = (i-1)*N + 1\n",
    "    j_0 = i_0\n",
    "    for j in range(-1, N):\n",
    "        for k in range(-1, N):\n",
    "            K_gl[i_0 + j, j_0 + k] = K_ele[j+1, k+1]    # Global stiffness matrix\n",
    "\n",
    "for i in range(2, n_ele + 1):\n",
    "    i_0 = (i-1)*N\n",
    "    j_0 = i_0\n",
    "    K_gl[i_0, j_0] = K_ele[0,0] + K_ele[N,N]\n",
    "\n",
    "\n",
    "plt.imshow(K_gl)\n",
    "plt.title('Global Stiffness Matrix $\\mathbf{K}$')\n",
    "plt.axis(\"off\")\n",
    "plt.tight_layout()\n",
    "plt.show()\n"
   ]
  },
  {
   "cell_type": "markdown",
   "metadata": {},
   "source": [
    "## Solve the global equation"
   ]
  },
  {
   "cell_type": "code",
   "execution_count": null,
   "metadata": {},
   "outputs": [
    {
     "data": {
      "image/png": "[encoded data removed]",
      "text/plain": [
       "<Figure size 432x288 with 1 Axes>"
      ]
     },
     "metadata": {
      "needs_background": "light"
     },
     "output_type": "display_data"
    }
   ],
   "source": [
    "source_f = ricker(dt, T_0)                              # Adding a source function\n",
    "source_x = int(n_ele_gl/2)                              # Adding a source location\n",
    "\n",
    "u = np.zeros(n_ele_gl)                                  # solution u at time n\n",
    "u_next = np.zeros(n_ele_gl)                             # solution u at time n+1\n",
    "u_old = np.zeros(n_ele_gl)                              # solution u at time n-1\n",
    "\n",
    "plt.figure()\n",
    "lines = plt.plot(xg, u, lw=1.5)\n",
    "plt.title('1D Wave - Homogeneous Medium', size=12)\n",
    "plt.xlabel(' x (m)')\n",
    "plt.ylabel(' Amplitude ')\n",
    "plt.rc('xtick')\n",
    "plt.rc('ytick')\n",
    "plt.ion()\n",
    "plt.show()\n",
    "\n",
    "for it in range(t_n_points):\n",
    "    f = np.zeros(n_ele_gl)                              # force vector f at time n\n",
    "    if it < len(source_f):\n",
    "        f[source_x - 1] = source_f[it - 1]\n",
    "\n",
    "    u_next = np.dot(dt**2 * M_gl_inv, (f - (np.dot(K_gl,u)))) + 2 * u - u_old   # Solving the equation\n",
    "    u_old,u = u,u_next                                  # Assigning solution to the next time step\n",
    "\n",
    "    if not it % f_snap:\n",
    "        for l in lines:\n",
    "            l.remove()\n",
    "            del l\n",
    "\n",
    "        lines = plt.plot(xg, u, lw=1.5)\n",
    "        plt.gcf().canvas.draw()\n"
   ]
  },
  {
   "cell_type": "code",
   "execution_count": null,
   "metadata": {},
   "outputs": [],
   "source": []
  },
  {
   "cell_type": "code",
   "execution_count": null,
   "metadata": {},
   "outputs": [],
   "source": []
  }
 ],
 "metadata": {
  "kernelspec": {
   "display_name": "Python 3",
   "language": "python",
   "name": "python3"
  },
  "language_info": {
   "codemirror_mode": {
    "name": "ipython",
    "version": 3
   },
   "file_extension": ".py",
   "mimetype": "text/x-python",
   "name": "python",
   "nbconvert_exporter": "python",
   "pygments_lexer": "ipython3",
   "version": "3.7.3"
  }
 },
 "nbformat": 4,
 "nbformat_minor": 4
}
