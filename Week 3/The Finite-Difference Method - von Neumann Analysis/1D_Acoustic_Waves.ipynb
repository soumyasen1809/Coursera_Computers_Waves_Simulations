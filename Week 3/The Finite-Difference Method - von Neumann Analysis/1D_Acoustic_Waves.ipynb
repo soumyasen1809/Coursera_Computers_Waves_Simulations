{
 "cells": [
  {
   "cell_type": "markdown",
   "metadata": {},
   "source": [
    "# Coursera - Finite-Difference Method - Acoustic Waves 1D"
   ]
  },
  {
   "cell_type": "markdown",
   "metadata": {},
   "source": [
    "## Importing libraries"
   ]
  },
  {
   "cell_type": "code",
   "execution_count": 1,
   "metadata": {},
   "outputs": [],
   "source": [
    "import numpy as np\n",
    "import matplotlib\n",
    "import matplotlib.pyplot as plt\n",
    "from matplotlib import gridspec\n",
    "# Ignore Warning Messages\n",
    "# -----------------------\n",
    "import warnings\n",
    "warnings.filterwarnings(\"ignore\")"
   ]
  },
  {
   "cell_type": "markdown",
   "metadata": {},
   "source": [
    "## Define parameters"
   ]
  },
  {
   "cell_type": "code",
   "execution_count": 2,
   "metadata": {},
   "outputs": [],
   "source": [
    "x_max = 10000       # Define physical domain (in m)\n",
    "x_n_points = 10002  # Define number of points taken in space\n",
    "dx = x_max/(x_n_points - 2)\n",
    "\n",
    "t_n_points = 1002   # Define number of point taken in time domain\n",
    "dt = 0.001          # Time steps taken\n",
    "t_max = dt * (t_n_points - 2)   # Define time domain\n",
    "\n",
    "f_0 = 25            # dominant frequency\n",
    "t_0 = 4/float(f_0)  # source time shift\n",
    "c_0 = 334           # speed of sound = 334 m/s\n",
    "insert_src = int((x_n_points - 2)/2)\n",
    "idisp = 5"
   ]
  },
  {
   "cell_type": "markdown",
   "metadata": {},
   "source": [
    "## Plotting the source time function and fourier transform"
   ]
  },
  {
   "cell_type": "code",
   "execution_count": 3,
   "metadata": {},
   "outputs": [
    {
     "data": {
      "text/plain": [
       "<Figure size 1440x720 with 0 Axes>"
      ]
     },
     "metadata": {},
     "output_type": "display_data"
    },
    {
     "data": {
      "image/png": "[encoded data removed]",
      "text/plain": [
       "<Figure size 432x288 with 2 Axes>"
      ]
     },
     "metadata": {
      "needs_background": "light"
     },
     "output_type": "display_data"
    }
   ],
   "source": [
    "src_time = np.zeros(t_n_points - 2)\n",
    "time = np.linspace(0, t_max, t_n_points - 2)\n",
    "for i in range(0, t_n_points - 2):\n",
    "    time[i] = i * dt\n",
    "\n",
    "src_time = -2 * (time - t_0) * (f_0 ** 2) * (np.exp(-1.0 * (f_0 ** 2) * (time - t_0) ** 2))\n",
    "\n",
    "# Plotting source time function and fourier transform\n",
    "\n",
    "fig = plt.figure(figsize=(20, 10))\n",
    "fig, (ax1, ax2) = plt.subplots(nrows=1, ncols=2)\n",
    "\n",
    "# ax1 = plt.subplot()\n",
    "ax1.plot(time, src_time)    # plot source time function\n",
    "ax1.set_title('Source Time Function')\n",
    "ax1.set_xlim(time[0], time[t_n_points - 3])\n",
    "ax1.set_xlabel('Time (s)')\n",
    "ax1.set_ylabel('Amplitude')\n",
    "\n",
    "\n",
    "# ax2 = plt.subplot()\n",
    "src_fourier = np.fft.fft(src_time)      # Taking fourier of the time function\n",
    "freq = np.fft.fftfreq(src_fourier.size, d = dt / float(4))  # time domain to frequency domain\n",
    "ax2.plot(np.abs(freq), np.abs(src_fourier))    # plot frequency and amplitude\n",
    "ax2.set_xlim(0, 250)                    # only display frequency from 0 to 250 Hz\n",
    "ax2.set_title('Source Spectrum')\n",
    "ax2.set_xlabel('Frequency (Hz)')\n",
    "ax2.set_ylabel('Amplitude')\n",
    "\n",
    "plt.show()"
   ]
  },
  {
   "cell_type": "markdown",
   "metadata": {},
   "source": [
    "## 1D Finite difference method"
   ]
  },
  {
   "cell_type": "code",
   "execution_count": 4,
   "metadata": {},
   "outputs": [
    {
     "data": {
      "image/png": "[encoded data removed]",
      "text/plain": [
       "<Figure size 432x288 with 1 Axes>"
      ]
     },
     "metadata": {
      "needs_background": "light"
     },
     "output_type": "display_data"
    }
   ],
   "source": [
    "p_old = np.zeros(x_n_points - 2)       # Defining P[i-1]\n",
    "p_new = np.zeros(x_n_points - 2)       # Defining P[i+1]\n",
    "p = np.zeros(x_n_points - 2)           # Defining P[i] - current pressure at space point i\n",
    "d2P = np.zeros(x_n_points - 2)         # Defining the second derivative of P\n",
    "\n",
    "c = np.zeros(x_n_points - 2)           # C is a function of x\n",
    "c = c + c_0                            # Assuming homogeneous medium\n",
    "\n",
    "x = np.zeros(x_n_points - 2)           # Defining the position\n",
    "for j in range(0, x_max, x_n_points - 2):\n",
    "    x[j] = j * dx\n",
    "\n",
    "plt.ion()                               # Needed for an animation\n",
    "fig2 = plt.figure()\n",
    "gs2 = gridspec.GridSpec(1,1,width_ratios=[1],hspace=0.3, wspace=0.3)\n",
    "ax3 = plt.subplot(gs2[0])\n",
    "leg1, = ax3.plot(insert_src, 0, 'r*', markersize=11)       # plot position of the source in snapshot\n",
    "# leg2,= ax3.plot(ir, 0, 'k^', markersize=8)               # plot position of the receiver in snapshot\n",
    "up31, = ax3.plot(p)                                        # plot pressure update each time step\n",
    "ax3.set_xlim(0, x_max)\n",
    "ax3.set_ylim(-1* np.max(p), np.max(p))\n",
    "ax3.set_title('Time Step (nt) = 0')\n",
    "ax3.set_xlabel('x (m)')\n",
    "ax3.set_ylabel('Pressure Amplitude')\n",
    "# ax3.legend((leg1, leg2), ('Source', 'Receiver'), loc='upper right', fontsize=10, numpoints=1)\n",
    "plt.show()\n"
   ]
  },
  {
   "cell_type": "code",
   "execution_count": 5,
   "metadata": {},
   "outputs": [
    {
     "data": {
      "text/plain": [
       "<Figure size 432x288 with 0 Axes>"
      ]
     },
     "metadata": {},
     "output_type": "display_data"
    }
   ],
   "source": [
    "for i_t in range(0, t_n_points - 2):                        # Defining for each time interval\n",
    "    for i_x in range(1, x_n_points - 3):                    # Defining for each wave points\n",
    "        d2P[i_x] = (p[i_x + 1] - 2 * p[i_x] + p[i_x - 1]) / float(dx ** 2)      # 2nd derivative of pressure\n",
    "\n",
    "    p_new = 2 * p - p_old + c ** 2 * dt ** 2 * d2P          # Based on above found d2P, finding p[n+1]\n",
    "    p_new[insert_src] = p_new[insert_src] + src_time[i_t]/float(dx*(dt ** 2))       # Inserting the source\n",
    "\n",
    "    p_old,p = p,p_new                                       # Assigning p_old to p and p to p_new\n",
    "\n",
    "    if(i_t % idisp) == 0:                                   # Plotting the animation\n",
    "        ax3.set_title('Time Step (nt) = %d' % i_t)\n",
    "        ax3.set_ylim(-1.1 * np.max(abs(p)), 1.1 * np.max(abs(p)))\n",
    "        # plot around propagating wave\n",
    "        window = 100;\n",
    "        xshift = 25\n",
    "        ax3.set_xlim(insert_src * dx + c_0 * i_t * dt - window * dx - xshift, insert_src * dx + c_0 * i_t * dt + window * dx - xshift)\n",
    "        up31.set_ydata(p)\n",
    "        plt.gcf().canvas.draw()"
   ]
  },
  {
   "cell_type": "code",
   "execution_count": null,
   "metadata": {},
   "outputs": [],
   "source": []
  }
 ],
 "metadata": {
  "kernelspec": {
   "display_name": "Python 3",
   "language": "python",
   "name": "python3"
  },
  "language_info": {
   "codemirror_mode": {
    "name": "ipython",
    "version": 3
   },
   "file_extension": ".py",
   "mimetype": "text/x-python",
   "name": "python",
   "nbconvert_exporter": "python",
   "pygments_lexer": "ipython3",
   "version": "3.7.3"
  }
 },
 "nbformat": 4,
 "nbformat_minor": 4
}
